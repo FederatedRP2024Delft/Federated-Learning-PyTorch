{
 "cells": [
  {
   "cell_type": "code",
   "id": "initial_id",
   "metadata": {
    "collapsed": true,
    "ExecuteTime": {
     "end_time": "2024-05-01T12:36:18.377854Z",
     "start_time": "2024-05-01T12:36:16.495188Z"
    }
   },
   "source": [
    "import numpy as np\n",
    "from src import sampling"
   ],
   "outputs": [],
   "execution_count": 2
  },
  {
   "metadata": {
    "ExecuteTime": {
     "end_time": "2024-05-01T12:38:11.570394Z",
     "start_time": "2024-05-01T12:38:11.558262Z"
    }
   },
   "cell_type": "code",
   "source": [
    "np.random.dirichlet([5,0.4,0.4])"
   ],
   "id": "ec67a6ae264bf999",
   "outputs": [
    {
     "data": {
      "text/plain": [
       "array([0.98226194, 0.00909731, 0.00864075])"
      ]
     },
     "execution_count": 8,
     "metadata": {},
     "output_type": "execute_result"
    }
   ],
   "execution_count": 8
  },
  {
   "metadata": {
    "ExecuteTime": {
     "end_time": "2024-05-05T14:19:08.151317100Z",
     "start_time": "2024-05-05T14:19:08.127265800Z"
    }
   },
   "cell_type": "code",
   "outputs": [
    {
     "data": {
      "text/plain": "{'a': tensor([1.0000, 2.0000, 3.0000]), 'b': tensor([4.0000, 5.0000, 6.0000])}"
     },
     "execution_count": 4,
     "metadata": {},
     "output_type": "execute_result"
    }
   ],
   "execution_count": 4,
   "source": [
    "from src.utils import fed_avg\n",
    "import torch\n",
    "local_weights = [{\"a\":torch.tensor([1,2,3]), \"b\":torch.tensor([4,5,6])}, {\"a\":torch.tensor([5,4,3]), \"b\":torch.tensor([2,1,0])}]\n",
    "#expected avg should be 3\n",
    "dataset_size_per_client = [10000000, 10]\n",
    "global_weights = fed_avg(local_weights, dataset_size_per_client)\n",
    "global_weights"
   ],
   "id": "3ccb50801ff4b596"
  },
  {
   "cell_type": "code",
   "execution_count": 1,
   "outputs": [
    {
     "ename": "ModuleNotFoundError",
     "evalue": "No module named 'torch'",
     "output_type": "error",
     "traceback": [
      "\u001B[1;31m---------------------------------------------------------------------------\u001B[0m",
      "\u001B[1;31mModuleNotFoundError\u001B[0m                       Traceback (most recent call last)",
      "Input \u001B[1;32mIn [1]\u001B[0m, in \u001B[0;36m<module>\u001B[1;34m\u001B[0m\n\u001B[1;32m----> 1\u001B[0m \u001B[38;5;28;01mimport\u001B[39;00m \u001B[38;5;21;01mtorch\u001B[39;00m\n\u001B[0;32m      2\u001B[0m \u001B[38;5;28mprint\u001B[39m(torch\u001B[38;5;241m.\u001B[39mcuda\u001B[38;5;241m.\u001B[39mis_available())\n",
      "\u001B[1;31mModuleNotFoundError\u001B[0m: No module named 'torch'"
     ]
    }
   ],
   "source": [
    "import torch\n",
    "print(torch.cuda.is_available())"
   ],
   "metadata": {
    "collapsed": false
   }
  },
  {
   "cell_type": "code",
   "execution_count": null,
   "outputs": [],
   "source": [],
   "metadata": {
    "collapsed": false
   }
  }
 ],
 "metadata": {
  "kernelspec": {
   "display_name": "Python 3",
   "language": "python",
   "name": "python3"
  },
  "language_info": {
   "codemirror_mode": {
    "name": "ipython",
    "version": 2
   },
   "file_extension": ".py",
   "mimetype": "text/x-python",
   "name": "python",
   "nbconvert_exporter": "python",
   "pygments_lexer": "ipython2",
   "version": "2.7.6"
  }
 },
 "nbformat": 4,
 "nbformat_minor": 5
}
