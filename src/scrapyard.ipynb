{
 "cells": [
  {
   "cell_type": "code",
   "id": "initial_id",
   "metadata": {
    "collapsed": true,
    "ExecuteTime": {
     "end_time": "2024-05-01T12:36:18.377854Z",
     "start_time": "2024-05-01T12:36:16.495188Z"
    }
   },
   "source": [
    "import numpy as np\n",
    "import sampling"
   ],
   "outputs": [],
   "execution_count": 2
  },
  {
   "metadata": {
    "ExecuteTime": {
     "end_time": "2024-05-01T12:38:11.570394Z",
     "start_time": "2024-05-01T12:38:11.558262Z"
    }
   },
   "cell_type": "code",
   "source": "np.random.dirichlet([5,0.4,0.4])",
   "id": "ec67a6ae264bf999",
   "outputs": [
    {
     "data": {
      "text/plain": [
       "array([0.98226194, 0.00909731, 0.00864075])"
      ]
     },
     "execution_count": 8,
     "metadata": {},
     "output_type": "execute_result"
    }
   ],
   "execution_count": 8
  },
  {
   "metadata": {},
   "cell_type": "code",
   "outputs": [],
   "execution_count": null,
   "source": "",
   "id": "3ccb50801ff4b596"
  }
 ],
 "metadata": {
  "kernelspec": {
   "display_name": "Python 3",
   "language": "python",
   "name": "python3"
  },
  "language_info": {
   "codemirror_mode": {
    "name": "ipython",
    "version": 2
   },
   "file_extension": ".py",
   "mimetype": "text/x-python",
   "name": "python",
   "nbconvert_exporter": "python",
   "pygments_lexer": "ipython2",
   "version": "2.7.6"
  }
 },
 "nbformat": 4,
 "nbformat_minor": 5
}
