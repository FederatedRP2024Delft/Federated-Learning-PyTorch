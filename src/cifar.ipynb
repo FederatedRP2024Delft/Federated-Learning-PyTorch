{
 "cells": [
  {
   "cell_type": "code",
   "id": "a22df1df690b11f8",
   "metadata": {
    "collapsed": false,
    "ExecuteTime": {
     "end_time": "2024-05-16T12:04:27.956657Z",
     "start_time": "2024-05-16T12:04:25.975816Z"
    }
   },
   "source": [
    "import matplotlib.pyplot as plt\n",
    "import numpy as np\n",
    "import torch.utils.data\n",
    "import torchvision"
   ],
   "outputs": [],
   "execution_count": 1
  },
  {
   "cell_type": "code",
   "outputs": [
    {
     "name": "stdout",
     "output_type": "stream",
     "text": [
      "Files already downloaded and verified\n",
      "Files already downloaded and verified\n"
     ]
    }
   ],
   "source": [
    "from torchvision import transforms, datasets\n",
    "\n",
    "data_dir = '../data/cifar/'\n",
    "\n",
    "batch_size = 50\n",
    "\n",
    "apply_transform = transforms.Compose(\n",
    "            [transforms.ToTensor(),\n",
    "             transforms.Normalize((0.5, 0.5, 0.5), (0.5, 0.5, 0.5))])  # 1 value per channel - 3 channels\n",
    "\n",
    "trainset = datasets.CIFAR10(data_dir, train=True, transform=apply_transform, download=True)\n",
    "testset = datasets.CIFAR10(data_dir, train=False, transform=apply_transform, download=True)\n",
    "# trainset, valset = torch.utils.data.random_split(trainset, [int(0.9 * len(trainset)), int(0.1 * len(trainset))])"
   ],
   "metadata": {
    "collapsed": true,
    "ExecuteTime": {
     "end_time": "2024-05-16T12:04:29.091711Z",
     "start_time": "2024-05-16T12:04:27.957657Z"
    }
   },
   "id": "initial_id",
   "execution_count": 2
  },
  {
   "metadata": {
    "ExecuteTime": {
     "end_time": "2024-05-16T12:04:29.167788Z",
     "start_time": "2024-05-16T12:04:29.092710Z"
    }
   },
   "cell_type": "code",
   "outputs": [],
   "execution_count": 3,
   "source": [
    "device = 'cuda:0' if torch.cuda.is_available() else 'cpu'\n",
    "\n",
    "train_iter = iter(trainset)\n",
    "image, label = next(train_iter)\n",
    "image.shape, label, torch.min(image).item(), torch.max(image).item()\n",
    "image = torchvision.utils.make_grid(image)"
   ],
   "id": "3ccb50801ff4b596"
  },
  {
   "cell_type": "code",
   "outputs": [
    {
     "data": {
      "text/plain": "<matplotlib.image.AxesImage at 0x1c32696eaf0>"
     },
     "execution_count": 4,
     "metadata": {},
     "output_type": "execute_result"
    },
    {
     "data": {
      "text/plain": "<Figure size 640x480 with 1 Axes>",
      "image/png": "[encoded data removed]"
     },
     "metadata": {},
     "output_type": "display_data"
    }
   ],
   "source": [
    "image = image / 2 + 0.5\n",
    "npimg = image.numpy()\n",
    "plt.imshow(np.transpose(npimg, (1, 2, 0)))"
   ],
   "metadata": {
    "collapsed": false,
    "ExecuteTime": {
     "end_time": "2024-05-16T12:04:29.261833Z",
     "start_time": "2024-05-16T12:04:29.168791Z"
    }
   },
   "id": "e5500c0b6ed720ad",
   "execution_count": 4
  },
  {
   "cell_type": "code",
   "outputs": [
    {
     "data": {
      "text/plain": "(50000, 10000)"
     },
     "execution_count": 5,
     "metadata": {},
     "output_type": "execute_result"
    }
   ],
   "source": [
    "len(trainset), len(testset)"
   ],
   "metadata": {
    "collapsed": false,
    "ExecuteTime": {
     "end_time": "2024-05-16T12:04:29.277904Z",
     "start_time": "2024-05-16T12:04:29.263835Z"
    }
   },
   "id": "63ec083be0f7d6f5",
   "execution_count": 5
  },
  {
   "cell_type": "code",
   "outputs": [],
   "source": [
    "trainloader = torch.utils.data.DataLoader(trainset, batch_size=batch_size, shuffle=True, num_workers=2)\n",
    "# valloader = torch.utils.data.DataLoader(valset, batch_size=50, shuffle=False, num_workers=2)\n",
    "testloader = torch.utils.data.DataLoader(testset, batch_size=batch_size, shuffle=False, num_workers=2)"
   ],
   "metadata": {
    "collapsed": false,
    "ExecuteTime": {
     "end_time": "2024-05-16T12:04:29.293830Z",
     "start_time": "2024-05-16T12:04:29.278832Z"
    }
   },
   "id": "88ab467bc9caaf15",
   "execution_count": 6
  },
  {
   "cell_type": "code",
   "outputs": [],
   "source": [
    "import torch.nn as nn\n",
    "import torch.nn.functional as F\n",
    "\n",
    "class CNNCifar(nn.Module):\n",
    "    def __init__(self):\n",
    "        super(CNNCifar, self).__init__()\n",
    "        self.conv1 = nn.Conv2d(3, 64, 3)\n",
    "        self.pool1 = nn.MaxPool2d(2, 2)\n",
    "        self.conv2 = nn.Conv2d(64, 64, 3)\n",
    "        self.pool2 = nn.MaxPool2d(2, 2)\n",
    "        self.conv3 = nn.Conv2d(64, 64, 2)\n",
    "        # self.pool3 = nn.MaxPool2d(2, 2)\n",
    "        # self.conv4 = nn.Conv2d(64, 64, 2)\n",
    "        self.fc1 = nn.Linear(64 * 53 * 53, 500)\n",
    "        self.drop1 = nn.Dropout(0.2)\n",
    "        self.fc2 = nn.Linear(500, 100)\n",
    "        self.drop2 = nn.Dropout(0.2)\n",
    "        self.fc3 = nn.Linear(100, 10)  # 10 classes\n",
    "        self.flatten = nn.Flatten()\n",
    "        # (W - F + 2P)/S + 1\n",
    "        # self.conv1 -> (32 - 5 + 2*0)/1 + 1 = 28 (final shape after first layer) \n",
    "\n",
    "    def forward(self, x):\n",
    "        x = self.pool1(F.relu(self.conv1(x)))\n",
    "        x = self.pool2(F.relu(self.conv2(x)))\n",
    "        # x = self.pool2(F.relu(self.conv3(x)))\n",
    "        x = F.relu(self.conv3(x))\n",
    "        \n",
    "        # x = x.view(-1, 64 * 4 * 4)\n",
    "        x = self.flatten(x)\n",
    "        \n",
    "        x = F.relu(self.fc1(x))\n",
    "        x = self.drop1(x)\n",
    "        \n",
    "        x = F.relu(self.fc2(x))\n",
    "        # x = self.drop2(x)\n",
    "        \n",
    "        x = self.fc3(x)\n",
    "        \n",
    "        return x"
   ],
   "metadata": {
    "collapsed": false,
    "ExecuteTime": {
     "end_time": "2024-05-16T12:04:29.308830Z",
     "start_time": "2024-05-16T12:04:29.294832Z"
    }
   },
   "id": "40dde5bf661ab6da",
   "execution_count": 7
  },
  {
   "cell_type": "code",
   "outputs": [
    {
     "data": {
      "text/plain": "CNNCifar(\n  (conv1): Conv2d(3, 64, kernel_size=(3, 3), stride=(1, 1))\n  (pool1): MaxPool2d(kernel_size=2, stride=2, padding=0, dilation=1, ceil_mode=False)\n  (conv2): Conv2d(64, 64, kernel_size=(3, 3), stride=(1, 1))\n  (pool2): MaxPool2d(kernel_size=2, stride=2, padding=0, dilation=1, ceil_mode=False)\n  (conv3): Conv2d(64, 64, kernel_size=(2, 2), stride=(1, 1))\n  (fc1): Linear(in_features=179776, out_features=500, bias=True)\n  (drop1): Dropout(p=0.2, inplace=False)\n  (fc2): Linear(in_features=500, out_features=100, bias=True)\n  (drop2): Dropout(p=0.2, inplace=False)\n  (fc3): Linear(in_features=100, out_features=10, bias=True)\n  (flatten): Flatten(start_dim=1, end_dim=-1)\n)"
     },
     "execution_count": 8,
     "metadata": {},
     "output_type": "execute_result"
    }
   ],
   "source": [
    "net = CNNCifar()\n",
    "net.to(device)"
   ],
   "metadata": {
    "collapsed": false,
    "ExecuteTime": {
     "end_time": "2024-05-16T12:04:29.810879Z",
     "start_time": "2024-05-16T12:04:29.309831Z"
    }
   },
   "id": "cecb71a5df0762dd",
   "execution_count": 8
  },
  {
   "cell_type": "code",
   "outputs": [],
   "source": [
    "# for i, data in enumerate(trainloader):\n",
    "#     inputs, labels = data[0].to(device), data[1].to(device)\n",
    "#     print(f'inputs: {inputs.shape}')\n",
    "#     print(f'after network shape: {net(inputs).shape}')\n",
    "#     break"
   ],
   "metadata": {
    "collapsed": false,
    "ExecuteTime": {
     "end_time": "2024-05-16T12:04:29.826879Z",
     "start_time": "2024-05-16T12:04:29.811882Z"
    }
   },
   "id": "aee41fb604222b84",
   "execution_count": 9
  },
  {
   "cell_type": "code",
   "outputs": [
    {
     "name": "stdout",
     "output_type": "stream",
     "text": [
      "Number of parameters: 89,994,778\n"
     ]
    }
   ],
   "source": [
    "num_params = 0\n",
    "for x in net.parameters():\n",
    "    num_params += len(torch.flatten(x))\n",
    "print(f'Number of parameters: {num_params:,}')  # number of learnable parameters - shows how complex the network is"
   ],
   "metadata": {
    "collapsed": false,
    "ExecuteTime": {
     "end_time": "2024-05-16T12:04:29.842885Z",
     "start_time": "2024-05-16T12:04:29.827881Z"
    }
   },
   "id": "97d3b244774844c2",
   "execution_count": 10
  },
  {
   "cell_type": "code",
   "outputs": [],
   "source": [
    "import torch.optim as optim\n",
    "\n",
    "criterion = nn.CrossEntropyLoss().to(device)\n",
    "optimizer = optim.Adam(net.parameters(), lr=0.001)\n",
    "# optimizer = optim.SGD(net.parameters(), lr=0.001)"
   ],
   "metadata": {
    "collapsed": false,
    "ExecuteTime": {
     "end_time": "2024-05-16T12:04:29.858884Z",
     "start_time": "2024-05-16T12:04:29.843880Z"
    }
   },
   "id": "c9dec04d532466f4",
   "execution_count": 11
  },
  {
   "cell_type": "code",
   "outputs": [],
   "source": [
    "def train_one_epoch():\n",
    "    net.train(True)\n",
    "    running_loss = 0.0\n",
    "    running_accuracy = 0.0\n",
    "    \n",
    "    for batch_index, data in enumerate(trainloader):\n",
    "        inputs = F.interpolate(data[0], size=(224, 224), mode='bilinear', align_corners=False).to(device)\n",
    "        labels = data[1].to(device)\n",
    "        \n",
    "        optimizer.zero_grad()\n",
    "        \n",
    "        outputs = net(inputs)\n",
    "        correct = torch.sum(labels == torch.argmax(outputs, dim=1)).item()\n",
    "        running_accuracy += correct / batch_size\n",
    "        \n",
    "        loss = criterion(outputs, labels)\n",
    "        running_loss += loss.item()\n",
    "        loss.backward()\n",
    "        optimizer.step()\n",
    "        # \n",
    "        # if running_accuracy >= 0.8:\n",
    "        #     total = 0.0\n",
    "        #     for batch_idx, (images, labels) in enumerate(testloader):\n",
    "        #         images, labels = images.to(device), labels.to(device)\n",
    "        #     \n",
    "        #         # Inference\n",
    "        #         outputs = net(images)\n",
    "        #         batch_loss = criterion(outputs, labels)\n",
    "        #         loss += batch_loss.item()\n",
    "        #     \n",
    "        #         # Prediction\n",
    "        #         # _, pred_labels = torch.max(outputs, 1)\n",
    "        #         # pred_labels = pred_labels.view(-1)\n",
    "        #         correct += torch.sum(labels == torch.argmax(outputs, dim=1)).item()\n",
    "        #         total += len(labels)\n",
    "        #         \n",
    "        #         print('Test accuracy after train accuracy is at least 80%')\n",
    "        #     \n",
    "             \n",
    "        \n",
    "        if batch_index % batch_size == batch_size-1:  # print every 50 epochs\n",
    "            avg_loss = running_loss / batch_size\n",
    "            avg_accuracy = (running_accuracy / batch_size) * 100\n",
    "            print('Batch {0}, Loss: {1:.3f}, Accuracy: {2:.1f}%'.format(batch_index + 1, avg_loss, avg_accuracy))\n",
    "            running_loss = 0.0\n",
    "            running_accuracy = 0.0"
   ],
   "metadata": {
    "collapsed": false,
    "ExecuteTime": {
     "end_time": "2024-05-16T12:04:29.874881Z",
     "start_time": "2024-05-16T12:04:29.859883Z"
    }
   },
   "id": "2ebf770b823409b6",
   "execution_count": 12
  },
  {
   "cell_type": "code",
   "outputs": [],
   "source": [
    "def validate_one_epoch():\n",
    "    net.train(False)\n",
    "    running_loss = 0.0\n",
    "    running_accuracy = 0.0\n",
    "    \n",
    "    for i, data in enumerate(valloader):\n",
    "        inputs, labels = data[0].to(device), data[1].to(device)\n",
    "        \n",
    "        with torch.no_grad():\n",
    "            outputs = net(inputs)\n",
    "            correct = torch.sum(labels == torch.argmax(outputs, dim=1)).item()\n",
    "            running_accuracy += correct / batch_size\n",
    "            loss = criterion(outputs, labels)  # one number, the average batch loss\n",
    "            running_loss += loss.item()\n",
    "        \n",
    "        _, predicted = torch.max(outputs.data, 1)\n",
    "        \n",
    "    avg_loss = running_loss / len(valloader)\n",
    "    avg_acc = (running_accuracy / len(valloader)) * 100\n",
    "    \n",
    "    print('Val Loss: {0:.3f}, Val Accuracy: {1:.1f}%'.format(avg_loss, avg_acc))\n",
    "    print('-----------------------------------')"
   ],
   "metadata": {
    "collapsed": false,
    "ExecuteTime": {
     "end_time": "2024-05-16T12:04:29.890883Z",
     "start_time": "2024-05-16T12:04:29.875881Z"
    }
   },
   "id": "8ae8e156ba723317",
   "execution_count": 13
  },
  {
   "cell_type": "code",
   "outputs": [
    {
     "name": "stdout",
     "output_type": "stream",
     "text": [
      "Epoch 1\n"
     ]
    }
   ],
   "source": [
    "num_epochs = 10\n",
    "\n",
    "for epoch_index in range(num_epochs):\n",
    "    print(f'Epoch {epoch_index + 1}\\n')\n",
    "    \n",
    "    train_one_epoch()\n",
    "\n",
    "    with torch.no_grad():\n",
    "        n_correct = 0\n",
    "        n_samples = 0\n",
    "        n_class_correct = [0 for i in range(10)]\n",
    "        n_class_samples = [0 for i in range(10)]\n",
    "        for images, labels in testloader:\n",
    "            images = F.interpolate(images, size=(224, 224), mode='bilinear', align_corners=False).to(device)\n",
    "            labels = labels.to(device)\n",
    "            outputs = net(images)\n",
    "            _, predicted = torch.max(outputs, 1)\n",
    "            n_samples += labels.size(0)\n",
    "            n_correct += (predicted == labels).sum().item()\n",
    "            for i in range(5):\n",
    "                label = labels[i]\n",
    "                pred = predicted[i]\n",
    "                if label == pred:\n",
    "                    n_class_correct[label] += 1\n",
    "                n_class_samples[label] += 1\n",
    "    \n",
    "        acc = 100.0 * n_correct / n_samples\n",
    "        print(f'Accuracy of the network on the 10000 test images: {acc} %')\n",
    "    # validate_one_epoch()\n",
    "\n",
    "loss, correct, total = 0.0, 0.0, 0.0\n",
    "for batch_idx, (images, labels) in enumerate(testloader):\n",
    "    images, labels = images.to(device), labels.to(device)\n",
    "\n",
    "    # Inference\n",
    "    outputs = net(images)\n",
    "    batch_loss = criterion(outputs, labels)\n",
    "    loss += batch_loss.item()\n",
    "\n",
    "    # Prediction\n",
    "    # _, pred_labels = torch.max(outputs, 1)\n",
    "    # pred_labels = pred_labels.view(-1)\n",
    "    correct += torch.sum(labels == torch.argmax(outputs, dim=1)).item()\n",
    "    total += len(labels)\n",
    "\n",
    "print(f'Final accuracy: {100*correct/total}')\n",
    "\n",
    "print('Finished Training')\n",
    "\n",
    "# 74.4 -> 70% test acc with layers of size only 64, 180\n",
    "# 86   -> 74% test acc with layers of size only 64, 280\n",
    "# 92   -> 72% test acc with layers of size 64 first and then 128 rest, 280\n",
    "# 92   -> 75% test acc with layers of size only 128, 280\n",
    "# 89   -> 72% test acc with layers of size only 128, 280, no second dropout"
   ],
   "metadata": {
    "collapsed": false,
    "is_executing": true,
    "ExecuteTime": {
     "start_time": "2024-05-16T12:04:29.892890Z"
    }
   },
   "id": "95f8cd4b783c7736",
   "execution_count": null
  }
 ],
 "metadata": {
  "kernelspec": {
   "display_name": "Python 3",
   "language": "python",
   "name": "python3"
  },
  "language_info": {
   "codemirror_mode": {
    "name": "ipython",
    "version": 2
   },
   "file_extension": ".py",
   "mimetype": "text/x-python",
   "name": "python",
   "nbconvert_exporter": "python",
   "pygments_lexer": "ipython2",
   "version": "2.7.6"
  }
 },
 "nbformat": 4,
 "nbformat_minor": 5
}
