{
 "cells": [
  {
   "cell_type": "code",
   "id": "initial_id",
   "metadata": {
    "collapsed": true,
    "ExecuteTime": {
     "end_time": "2024-05-01T18:19:32.149271Z",
     "start_time": "2024-05-01T18:19:28.889393Z"
    }
   },
   "source": [
    "import torchvision\n",
    "\n",
    "from utils import train_vae_classifier, vae_classifier_loss_fn\n",
    "from vae.mnist_vae import  VaeAutoencoderClassifier\n",
    "\n",
    "from dataset.mnist import prepare_mnist_dataset\n",
    "from image_classifier.image_classifier import neural_network, train_model, test_model"
   ],
   "outputs": [
    {
     "name": "stderr",
     "output_type": "stream",
     "text": [
      "2024-05-01 20:19:30.703461: I tensorflow/core/platform/cpu_feature_guard.cc:210] This TensorFlow binary is optimized to use available CPU instructions in performance-critical operations.\n",
      "To enable the following instructions: AVX2 FMA, in other operations, rebuild TensorFlow with the appropriate compiler flags.\n",
      "2024-05-01 20:19:31.418841: W tensorflow/compiler/tf2tensorrt/utils/py_utils.cc:38] TF-TRT Warning: Could not find TensorRT\n"
     ]
    }
   ],
   "execution_count": 1
  },
  {
   "metadata": {
    "ExecuteTime": {
     "end_time": "2024-05-01T18:19:32.217169Z",
     "start_time": "2024-05-01T18:19:32.150672Z"
    }
   },
   "cell_type": "code",
   "source": [
    "training_data = torchvision.datasets.MNIST(root='./root', train=True, download=True, transform=torchvision.transforms.ToTensor())\n",
    "\n",
    "input = training_data.data[:60000] / 255.0\n",
    "labels = training_data.targets[:60000]\n",
    "\n"
   ],
   "id": "16ee1ea9b79842dc",
   "outputs": [],
   "execution_count": 2
  },
  {
   "metadata": {
    "ExecuteTime": {
     "end_time": "2024-05-01T18:19:43.756354Z",
     "start_time": "2024-05-01T18:19:32.218075Z"
    }
   },
   "cell_type": "code",
   "source": [
    "vae = VaeAutoencoderClassifier(dim_encoding=2)\n",
    "\n",
    "vae_model_classifier, losses = train_vae_classifier(vae, training_data, epochs=2)\n",
    "# \n",
    "# print(vae_model_classifier.encodings)\n",
    "# print(losses)"
   ],
   "id": "415ddc3205ecd96b",
   "outputs": [
    {
     "name": "stdout",
     "output_type": "stream",
     "text": [
      "0 100 2963.5498046875; 0 200 2937.244873046875; 0 300 2614.894287109375; 0 400 2813.067138671875; 0 500 2658.09619140625; 0 600 2492.911376953125; 0 700 2712.291015625; 0 800 2832.183837890625; 0 900 2600.272216796875; 1 100 2663.104736328125; 1 200 2643.353759765625; 1 300 2724.849365234375; 1 400 2456.84521484375; 1 500 2678.92578125; 1 600 2558.056396484375; 1 700 2551.921142578125; 1 800 2646.322265625; 1 900 2773.806396484375; "
     ]
    }
   ],
   "execution_count": 3
  },
  {
   "metadata": {},
   "cell_type": "code",
   "outputs": [],
   "execution_count": null,
   "source": [
    "# train classifier for performance evaluation\n",
    "\n",
    "x_train, x_test, y_train, y_test = prepare_mnist_dataset()\n",
    "nn_model = neural_network(10, 784)\n",
    "train_model(nn_model, x_train, y_train)\n",
    "test_model(nn_model, x_test, y_test)\n",
    "\n"
   ],
   "id": "1c22d0587d317480"
  }
 ],
 "metadata": {
  "kernelspec": {
   "display_name": "Python 3",
   "language": "python",
   "name": "python3"
  },
  "language_info": {
   "codemirror_mode": {
    "name": "ipython",
    "version": 2
   },
   "file_extension": ".py",
   "mimetype": "text/x-python",
   "name": "python",
   "nbconvert_exporter": "python",
   "pygments_lexer": "ipython2",
   "version": "2.7.6"
  }
 },
 "nbformat": 4,
 "nbformat_minor": 5
}
